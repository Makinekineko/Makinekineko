{
  "nbformat": 4,
  "nbformat_minor": 0,
  "metadata": {
    "colab": {
      "provenance": [],
      "include_colab_link": true
    },
    "kernelspec": {
      "name": "python3",
      "display_name": "Python 3"
    },
    "language_info": {
      "name": "python"
    }
  },
  "cells": [
    {
      "cell_type": "markdown",
      "metadata": {
        "id": "view-in-github",
        "colab_type": "text"
      },
      "source": [
        "<a href=\"https://colab.research.google.com/github/Makinekineko/Makinekineko/blob/main/Copia_de_3rd_Sprint_Live_Session_Theory_Student_version.ipynb\" target=\"_parent\"><img src=\"https://colab.research.google.com/assets/colab-badge.svg\" alt=\"Open In Colab\"/></a>"
      ]
    },
    {
      "cell_type": "markdown",
      "source": [
        "# Exercises for Live session 1"
      ],
      "metadata": {
        "id": "UNubEBkGMQh3"
      }
    },
    {
      "cell_type": "markdown",
      "source": [
        "Ejercicio 1: Carga el archivo CSV con los datos alterados y muestra las primeras 10 filas del DataFrame."
      ],
      "metadata": {
        "id": "YZPf5rd6LCTN"
      }
    },
    {
      "cell_type": "code",
      "source": [],
      "metadata": {
        "id": "Fs2zO-hOLzij"
      },
      "execution_count": null,
      "outputs": []
    },
    {
      "cell_type": "markdown",
      "source": [
        "Ejercicio 2. Verifica el tipo de datos de cada columna del dataset."
      ],
      "metadata": {
        "id": "Lg1ylTgyV7aS"
      }
    },
    {
      "cell_type": "code",
      "source": [],
      "metadata": {
        "id": "UdhIg8vjYp9P"
      },
      "execution_count": null,
      "outputs": []
    },
    {
      "cell_type": "markdown",
      "source": [
        "Ejercicio 3: Verifica si hay valores ausentes en el conjunto de datos y reemplázalos adecuadamente."
      ],
      "metadata": {
        "id": "zgRLcX_KN-3u"
      }
    },
    {
      "cell_type": "code",
      "source": [],
      "metadata": {
        "id": "C89VRvl2OFO9"
      },
      "execution_count": null,
      "outputs": []
    },
    {
      "cell_type": "code",
      "source": [],
      "metadata": {
        "id": "f0qehFoKOINl"
      },
      "execution_count": null,
      "outputs": []
    },
    {
      "cell_type": "markdown",
      "source": [
        "Ejercicio 4: Determina si hay filas duplicadas en el conjunto de datos y elimínalas si existen."
      ],
      "metadata": {
        "id": "rqYMHDJyOTxl"
      }
    },
    {
      "cell_type": "code",
      "source": [],
      "metadata": {
        "id": "I8pLvgXKOWQl"
      },
      "execution_count": null,
      "outputs": []
    },
    {
      "cell_type": "markdown",
      "source": [
        "Ejercicio 5: Renombra las columnas del DataFrame para que sigan un formato en minúsculas y sin espacios."
      ],
      "metadata": {
        "id": "VFTfvnuiOa_V"
      }
    },
    {
      "cell_type": "code",
      "source": [],
      "metadata": {
        "id": "4GiVtgt7OeMc"
      },
      "execution_count": null,
      "outputs": []
    },
    {
      "cell_type": "markdown",
      "source": [
        "Ejercicio 6: Agrupa los datos por la columna contract y calcula la media de monthlycharges."
      ],
      "metadata": {
        "id": "1FvgeQKyOkVL"
      }
    },
    {
      "cell_type": "code",
      "source": [],
      "metadata": {
        "id": "PKTWG8bqOtBk"
      },
      "execution_count": null,
      "outputs": []
    },
    {
      "cell_type": "markdown",
      "source": [
        "Ejercicio 7: Usa loc para seleccionar información de un cliente específico ('7590-VHVEG') y iloc para obtener los primeros 5 registros del DataFrame."
      ],
      "metadata": {
        "id": "RT1PePiGQOHd"
      }
    },
    {
      "cell_type": "code",
      "source": [],
      "metadata": {
        "id": "c168jG01QYHj"
      },
      "execution_count": null,
      "outputs": []
    },
    {
      "cell_type": "markdown",
      "source": [
        "Ejercicio 8: Cuenta cuántos valores únicos hay en la columna payment_method."
      ],
      "metadata": {
        "id": "4jTlvb3jQbT7"
      }
    },
    {
      "cell_type": "code",
      "source": [],
      "metadata": {
        "id": "QQt_1bnWQhRz"
      },
      "execution_count": null,
      "outputs": []
    },
    {
      "cell_type": "markdown",
      "source": [
        "Ejercicio 9: Filtra los clientes que tienen un contrato de \"Month-to-month\" y pagan más de 80 en monthly_charges."
      ],
      "metadata": {
        "id": "D2WZ7X0CQeAb"
      }
    },
    {
      "cell_type": "code",
      "source": [],
      "metadata": {
        "id": "1tKZAuksQhx6"
      },
      "execution_count": null,
      "outputs": []
    },
    {
      "cell_type": "markdown",
      "source": [
        "Ejercicio 10: Usa query() para encontrar los clientes que tienen servicio de internet de tipo \"Fiber optic\" y no tienen seguridad en línea."
      ],
      "metadata": {
        "id": "AFZwNrCgQe-T"
      }
    },
    {
      "cell_type": "code",
      "source": [],
      "metadata": {
        "id": "t3jQeFxBQiDT"
      },
      "execution_count": null,
      "outputs": []
    },
    {
      "cell_type": "markdown",
      "source": [
        "Ejercicio 11:  Agrupa los datos por contract y calcula la cantidad de clientes en cada tipo de contrato."
      ],
      "metadata": {
        "id": "5yob2VxaQfz6"
      }
    },
    {
      "cell_type": "code",
      "source": [],
      "metadata": {
        "id": "YO7oT5c4QiXk"
      },
      "execution_count": null,
      "outputs": []
    }
  ]
}